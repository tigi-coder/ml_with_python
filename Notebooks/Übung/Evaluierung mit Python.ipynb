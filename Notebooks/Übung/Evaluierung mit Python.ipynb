{
 "cells": [
  {
   "cell_type": "code",
   "execution_count": null,
   "id": "e452015c",
   "metadata": {},
   "outputs": [],
   "source": [
    "import pandas as pd\n",
    "import missingno as msno\n",
    "from sklearn.linear_model import LogisticRegression"
   ]
  },
  {
   "cell_type": "code",
   "execution_count": null,
   "id": "a8f63de5",
   "metadata": {},
   "outputs": [],
   "source": [
    "churn_dataset = pd.read_csv(\"../Datasets/telecom_churn.csv\", sep=\",\")"
   ]
  },
  {
   "cell_type": "code",
   "execution_count": null,
   "id": "89d39914",
   "metadata": {},
   "outputs": [],
   "source": [
    "churn_dataset"
   ]
  },
  {
   "cell_type": "markdown",
   "id": "cbae6d5e",
   "metadata": {},
   "source": [
    "Trainieren Sie ein Modell mit der Spalte \"Churn\" als Label und evaluieren Sie das Ergebnis anhand der Confusion-Matrix(F1-Score, Precision,Recall). Sie benötigen keine Pre-Processing-Schritte zu tätigen."
   ]
  },
  {
   "cell_type": "code",
   "execution_count": null,
   "id": "d024c921",
   "metadata": {},
   "outputs": [],
   "source": [
    "### Features und Label extrahieren"
   ]
  },
  {
   "cell_type": "code",
   "execution_count": null,
   "id": "75d47154",
   "metadata": {},
   "outputs": [],
   "source": [
    "### Train-/Test-Split"
   ]
  },
  {
   "cell_type": "code",
   "execution_count": null,
   "id": "829358ef",
   "metadata": {},
   "outputs": [],
   "source": [
    "### Classifier laden"
   ]
  },
  {
   "cell_type": "code",
   "execution_count": null,
   "id": "89ef7d8e",
   "metadata": {},
   "outputs": [],
   "source": [
    "### Parameter-Grid festlegen\n",
    "params = {\n",
    "    \"C\" : [0.1,1,10,100]\n",
    "}"
   ]
  },
  {
   "cell_type": "code",
   "execution_count": null,
   "id": "c6fd2bd9",
   "metadata": {},
   "outputs": [],
   "source": [
    "### Grid-Search"
   ]
  },
  {
   "cell_type": "code",
   "execution_count": null,
   "id": "036d3137",
   "metadata": {},
   "outputs": [],
   "source": [
    "### Accuracy"
   ]
  },
  {
   "cell_type": "code",
   "execution_count": null,
   "id": "126c3bc3",
   "metadata": {},
   "outputs": [],
   "source": [
    "### Confusion Matrix\n",
    "from sklearn.metrics import plot_confusion_matrix\n",
    "plot_confusion_matrix(search.best_estimator_, X_test, y_test,labels=[\"True\",\"False\"])"
   ]
  },
  {
   "cell_type": "code",
   "execution_count": null,
   "id": "1fad6c35",
   "metadata": {},
   "outputs": [],
   "source": [
    "### F1-Score, Precision, Recall\n",
    "from sklearn.metrics import f1_score,recall_score,precision_score \n",
    "f1_score(y_test, search.predict(X_test),average=\"binary\", pos_label=\"True\")"
   ]
  },
  {
   "cell_type": "code",
   "execution_count": null,
   "id": "1fdcbc16",
   "metadata": {},
   "outputs": [],
   "source": [
    "### Precision\n",
    "precision_score(y_test, search.predict(X_test),average=\"binary\", pos_label=\"True\")"
   ]
  },
  {
   "cell_type": "code",
   "execution_count": null,
   "id": "72f6dfa8",
   "metadata": {},
   "outputs": [],
   "source": [
    "### Recall\n",
    "recall_score(y_test, search.predict(X_test),average=\"binary\", pos_label=\"True\")"
   ]
  }
 ],
 "metadata": {
  "kernelspec": {
   "display_name": "Python 3",
   "language": "python",
   "name": "python3"
  },
  "language_info": {
   "codemirror_mode": {
    "name": "ipython",
    "version": 3
   },
   "file_extension": ".py",
   "mimetype": "text/x-python",
   "name": "python",
   "nbconvert_exporter": "python",
   "pygments_lexer": "ipython3",
   "version": "3.8.8"
  }
 },
 "nbformat": 4,
 "nbformat_minor": 5
}
