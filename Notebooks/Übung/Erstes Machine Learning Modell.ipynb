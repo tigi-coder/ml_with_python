{
 "cells": [
  {
   "cell_type": "code",
   "execution_count": 5,
   "id": "321928ec",
   "metadata": {},
   "outputs": [],
   "source": [
    "import pandas as pd\n",
    "import seaborn as sns\n",
    "from sklearn.tree import DecisionTreeClassifier\n",
    "from sklearn.model_selection import train_test_split\n",
    "import missingno as msno"
   ]
  },
  {
   "cell_type": "markdown",
   "id": "8dd0e5e5",
   "metadata": {},
   "source": [
    "Importieren Sie das occupancy-Dataset"
   ]
  },
  {
   "cell_type": "code",
   "execution_count": 4,
   "id": "575231f9",
   "metadata": {},
   "outputs": [],
   "source": [
    "pfad = \"../Datasets/occupancy.csv\""
   ]
  },
  {
   "cell_type": "code",
   "execution_count": null,
   "id": "e9d5196c",
   "metadata": {},
   "outputs": [],
   "source": [
    "### Your Code Here"
   ]
  },
  {
   "cell_type": "markdown",
   "id": "3acf8895",
   "metadata": {},
   "source": [
    "Lassen Sie sich das Dataset ausgeben:"
   ]
  },
  {
   "cell_type": "code",
   "execution_count": null,
   "id": "8c652d8b",
   "metadata": {},
   "outputs": [],
   "source": [
    "### Your Code Here"
   ]
  },
  {
   "cell_type": "markdown",
   "id": "107ab6a8",
   "metadata": {},
   "source": [
    "Führen Sie die nötigen Pre-Processing Schritte durch wie in den vorherigen Übungen (z.B.: Prüfung auf Fehlwerte,Datumsumformungen...)"
   ]
  },
  {
   "cell_type": "code",
   "execution_count": null,
   "id": "10e44072",
   "metadata": {},
   "outputs": [],
   "source": [
    "### Your Code Here"
   ]
  },
  {
   "cell_type": "markdown",
   "id": "23134118",
   "metadata": {},
   "source": [
    "Teilen Sie das Dataset in Features und Label auf:"
   ]
  },
  {
   "cell_type": "code",
   "execution_count": null,
   "id": "92924b51",
   "metadata": {},
   "outputs": [],
   "source": [
    "X = ## Features\n",
    "y = ## Labels"
   ]
  },
  {
   "cell_type": "code",
   "execution_count": null,
   "id": "490a8b38",
   "metadata": {},
   "outputs": [],
   "source": [
    "X_train, X_test, y_train, y_test = train_test_split(X,y,test_size=0.2)\n",
    "\n",
    "clf = DecisionTreeClassifier(max_depth=5)"
   ]
  },
  {
   "cell_type": "markdown",
   "id": "a893419d",
   "metadata": {},
   "source": [
    "Trainieren Sie den Classifier mit dem Trainingsdatensatz, indem Sie die .fit()-Methode ausführen und Validieren den Ihr Modell indem Sie die .score()-Methode anwenden und Ihr Testset übergeben."
   ]
  },
  {
   "cell_type": "code",
   "execution_count": null,
   "id": "887548af",
   "metadata": {},
   "outputs": [],
   "source": [
    "## Your Code Here"
   ]
  }
 ],
 "metadata": {
  "kernelspec": {
   "display_name": "Python 3",
   "language": "python",
   "name": "python3"
  },
  "language_info": {
   "codemirror_mode": {
    "name": "ipython",
    "version": 3
   },
   "file_extension": ".py",
   "mimetype": "text/x-python",
   "name": "python",
   "nbconvert_exporter": "python",
   "pygments_lexer": "ipython3",
   "version": "3.8.8"
  }
 },
 "nbformat": 4,
 "nbformat_minor": 5
}
