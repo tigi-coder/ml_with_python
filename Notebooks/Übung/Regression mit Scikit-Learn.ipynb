{
 "cells": [
  {
   "cell_type": "markdown",
   "id": "cd7926d1",
   "metadata": {},
   "source": [
    "## Use Case Vorhersage von Sales Daten mithilfe Linearer Regression\n",
    "Falls wir keine kategorischen sondern metrisch skalierten Werte (numerisch) vorhersagen wollen, müssen wir eine Regression anwenden. Eine einfache Methode dies zu tun ist eine sogenannte Lineare Regression. "
   ]
  },
  {
   "cell_type": "code",
   "execution_count": 1,
   "id": "d2d9b44d",
   "metadata": {},
   "outputs": [],
   "source": [
    "#imports \n",
    "import pandas as pd\n",
    "import plotly.express as px"
   ]
  },
  {
   "cell_type": "code",
   "execution_count": 3,
   "id": "b63cf80d",
   "metadata": {},
   "outputs": [],
   "source": [
    "sales = pd.read_csv('../Datasets/sales_all.csv')"
   ]
  },
  {
   "cell_type": "markdown",
   "id": "8cdab741",
   "metadata": {},
   "source": [
    "Sie bereits eine kleine explorative Datenanalyse in der Vorschau gesehen. Diese ist äußerst wichtig um relevante Features zu extrahieren. Lassen sie sich mit sales.head() die ersten Zeilen ausgeben und entscheiden Sie dann mit sales.loc oder sales.iloc welche Features Sie übernehmen wollen und was Ihr target ist."
   ]
  },
  {
   "cell_type": "code",
   "execution_count": null,
   "id": "6763fec2",
   "metadata": {},
   "outputs": [],
   "source": [
    "# Lassen Sie sich die ersten Zeilen ausgeben\n",
    "#Ihr Code"
   ]
  },
  {
   "cell_type": "markdown",
   "id": "d602ade0",
   "metadata": {},
   "source": [
    "Jetzt wählen Sie Ihre Features und das target aus."
   ]
  },
  {
   "cell_type": "code",
   "execution_count": null,
   "id": "011eb4d9",
   "metadata": {},
   "outputs": [],
   "source": [
    "X = #Ihr Code\n",
    "y = #Ihr Code"
   ]
  },
  {
   "cell_type": "markdown",
   "id": "dc4e1be6",
   "metadata": {},
   "source": [
    "Da eine Regression eine Funktion aufstellt um Werte vorhersagen zu können, müssen alle kategorischen Features zu numerischen Features umgewandelt werden. Dies geht durch sogenanntes One-Hot-Encoding. Dies geht in pandas mit der Funktion pd.get_dummies(). Als Input müssen Sie lediglich Ihren Featureraum X angeben."
   ]
  },
  {
   "cell_type": "code",
   "execution_count": null,
   "id": "f205a6ff",
   "metadata": {},
   "outputs": [],
   "source": [
    "one_hot_encoded_data = ## Ihr Code\n",
    "one_hot_encoded_data"
   ]
  },
  {
   "cell_type": "markdown",
   "id": "d9afcd5a",
   "metadata": {},
   "source": [
    "Um die Güte des Modells evaluieren zu können, machen wir zuvor einen Train-/Test split. Dieser teilt die Daten in verschiedene Partitionen auf. Die größte Partition wird dann für das Training benutzt und eine eher kleine Menge zum testen des Modells. Dies sieht wie folgt aus:"
   ]
  },
  {
   "cell_type": "code",
   "execution_count": 4,
   "id": "00f6beba",
   "metadata": {},
   "outputs": [
    {
     "ename": "NameError",
     "evalue": "name 'one_hot_encoded_data' is not defined",
     "output_type": "error",
     "traceback": [
      "\u001b[1;31m---------------------------------------------------------------------------\u001b[0m",
      "\u001b[1;31mNameError\u001b[0m                                 Traceback (most recent call last)",
      "\u001b[1;32m<ipython-input-4-fbfa0a9e47cb>\u001b[0m in \u001b[0;36m<module>\u001b[1;34m\u001b[0m\n\u001b[0;32m      1\u001b[0m \u001b[1;32mfrom\u001b[0m \u001b[0msklearn\u001b[0m\u001b[1;33m.\u001b[0m\u001b[0mmodel_selection\u001b[0m \u001b[1;32mimport\u001b[0m \u001b[0mtrain_test_split\u001b[0m\u001b[1;33m\u001b[0m\u001b[1;33m\u001b[0m\u001b[0m\n\u001b[1;32m----> 2\u001b[1;33m \u001b[0mX_train\u001b[0m\u001b[1;33m,\u001b[0m\u001b[0my_train\u001b[0m\u001b[1;33m,\u001b[0m \u001b[0mX_test\u001b[0m\u001b[1;33m,\u001b[0m \u001b[0my_test\u001b[0m \u001b[1;33m=\u001b[0m \u001b[0mtrain_test_split\u001b[0m\u001b[1;33m(\u001b[0m\u001b[0mone_hot_encoded_data\u001b[0m\u001b[1;33m,\u001b[0m\u001b[0my\u001b[0m\u001b[1;33m,\u001b[0m \u001b[0mtest_size\u001b[0m \u001b[1;33m=\u001b[0m\u001b[1;36m0.2\u001b[0m \u001b[1;33m)\u001b[0m\u001b[1;33m\u001b[0m\u001b[1;33m\u001b[0m\u001b[0m\n\u001b[0m",
      "\u001b[1;31mNameError\u001b[0m: name 'one_hot_encoded_data' is not defined"
     ]
    }
   ],
   "source": [
    "from sklearn.model_selection import train_test_split\n",
    "X_train, X_test, y_train, y_test = train_test_split(one_hot_encoded_data,y, test_size=0.2)"
   ]
  },
  {
   "cell_type": "markdown",
   "id": "f49d61ba",
   "metadata": {},
   "source": [
    "Nun können Sie Ihr Modell mit fit-Methode 'fitten' (trainieren) und anschließend mit den zuvor extrahierten Testdaten die Güte evaluieren."
   ]
  },
  {
   "cell_type": "code",
   "execution_count": 5,
   "id": "2e8de432",
   "metadata": {},
   "outputs": [
    {
     "ename": "NameError",
     "evalue": "name 'X_train' is not defined",
     "output_type": "error",
     "traceback": [
      "\u001b[1;31m---------------------------------------------------------------------------\u001b[0m",
      "\u001b[1;31mNameError\u001b[0m                                 Traceback (most recent call last)",
      "\u001b[1;32m<ipython-input-5-b8428ac6e398>\u001b[0m in \u001b[0;36m<module>\u001b[1;34m\u001b[0m\n\u001b[0;32m      2\u001b[0m \u001b[1;32mfrom\u001b[0m \u001b[0msklearn\u001b[0m\u001b[1;33m.\u001b[0m\u001b[0mlinear_model\u001b[0m \u001b[1;32mimport\u001b[0m \u001b[0mLinearRegression\u001b[0m\u001b[1;33m\u001b[0m\u001b[1;33m\u001b[0m\u001b[0m\n\u001b[0;32m      3\u001b[0m \u001b[0mlm\u001b[0m \u001b[1;33m=\u001b[0m \u001b[0mLinearRegression\u001b[0m\u001b[1;33m(\u001b[0m\u001b[1;33m)\u001b[0m\u001b[1;33m\u001b[0m\u001b[1;33m\u001b[0m\u001b[0m\n\u001b[1;32m----> 4\u001b[1;33m \u001b[0mlm\u001b[0m\u001b[1;33m.\u001b[0m\u001b[0mfit\u001b[0m\u001b[1;33m(\u001b[0m\u001b[0mX_train\u001b[0m\u001b[1;33m,\u001b[0m \u001b[0my_train\u001b[0m\u001b[1;33m)\u001b[0m\u001b[1;33m\u001b[0m\u001b[1;33m\u001b[0m\u001b[0m\n\u001b[0m\u001b[0;32m      5\u001b[0m \u001b[1;33m\u001b[0m\u001b[0m\n\u001b[0;32m      6\u001b[0m \u001b[0mlm\u001b[0m\u001b[1;33m.\u001b[0m\u001b[0mscore\u001b[0m\u001b[1;33m(\u001b[0m\u001b[0mX_test\u001b[0m\u001b[1;33m,\u001b[0m \u001b[0my_test\u001b[0m\u001b[1;33m)\u001b[0m\u001b[1;33m\u001b[0m\u001b[1;33m\u001b[0m\u001b[0m\n",
      "\u001b[1;31mNameError\u001b[0m: name 'X_train' is not defined"
     ]
    }
   ],
   "source": [
    "# imports\n",
    "from sklearn.linear_model import LinearRegression\n",
    "lm = LinearRegression()\n",
    "lm.fit(X_train, y_train)\n",
    "\n",
    "lm.score(X_test, y_test)"
   ]
  },
  {
   "cell_type": "markdown",
   "id": "f2f11b32",
   "metadata": {},
   "source": [
    "Sie können Werte mit der Methode predict vorhersagen."
   ]
  },
  {
   "cell_type": "code",
   "execution_count": null,
   "id": "553016f7",
   "metadata": {},
   "outputs": [],
   "source": [
    "lm.predict(X_test)"
   ]
  },
  {
   "cell_type": "markdown",
   "id": "b1235d4e",
   "metadata": {},
   "source": [
    "Da für eine Regression eher der Mean Squared Error benutzt wird, wollen wir diesen nun ausrechnen."
   ]
  },
  {
   "cell_type": "code",
   "execution_count": null,
   "id": "1277db6a",
   "metadata": {},
   "outputs": [],
   "source": [
    "from sklearn.metrics import mean_squared_error\n",
    "mse = mean_squared_error(lm.predict(X_test),y_test)"
   ]
  }
 ],
 "metadata": {
  "kernelspec": {
   "display_name": "Python 3",
   "language": "python",
   "name": "python3"
  },
  "language_info": {
   "codemirror_mode": {
    "name": "ipython",
    "version": 3
   },
   "file_extension": ".py",
   "mimetype": "text/x-python",
   "name": "python",
   "nbconvert_exporter": "python",
   "pygments_lexer": "ipython3",
   "version": "3.8.8"
  }
 },
 "nbformat": 4,
 "nbformat_minor": 5
}
