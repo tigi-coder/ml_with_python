{
 "cells": [
  {
   "cell_type": "code",
   "execution_count": 2,
   "id": "48f29517",
   "metadata": {},
   "outputs": [],
   "source": [
    "import pandas as pd\n",
    "from gensim.models import Word2Vec\n",
    "from gensim.models import KeyedVectors\n",
    "import numpy as np\n",
    "from sklearn.decomposition import PCA\n",
    "import matplotlib.pyplot as plt"
   ]
  },
  {
   "cell_type": "markdown",
   "id": "1321c2b9",
   "metadata": {},
   "source": [
    "Versuchen Sie in dieser Übung eigene Wordembeddings zu erstellen. Natürlich würde man für ein sinnhaftes Modell sehr viele Daten benötigen, deswgen gilt diese Übung lediglich zur Veranschaulichung der Vorgehensweise und Visualisierung."
   ]
  },
  {
   "cell_type": "markdown",
   "id": "26dc2b07",
   "metadata": {},
   "source": [
    "Erstellen Sie nun ein Dictionary, welches eine Liste mit Sätzen enthält:"
   ]
  },
  {
   "cell_type": "code",
   "execution_count": null,
   "id": "05d9f544",
   "metadata": {},
   "outputs": [],
   "source": [
    "### Your Code Here"
   ]
  },
  {
   "cell_type": "markdown",
   "id": "8a5b7e78",
   "metadata": {},
   "source": [
    "Wandeln Sie das Dictionary in ein pandas-Dataframe um"
   ]
  },
  {
   "cell_type": "code",
   "execution_count": null,
   "id": "bdc97980",
   "metadata": {},
   "outputs": [],
   "source": [
    "### Your Code Here"
   ]
  },
  {
   "cell_type": "markdown",
   "id": "9fd8fbdd",
   "metadata": {},
   "source": [
    "Nun folgt die Tokenization. Benutzen Sie zur Vereinfachung die .split()-Methode, um Ihre Tokens zu erstellen."
   ]
  },
  {
   "cell_type": "code",
   "execution_count": null,
   "id": "1850e980",
   "metadata": {},
   "outputs": [],
   "source": [
    "### Your Code Here"
   ]
  },
  {
   "cell_type": "markdown",
   "id": "0ec781c8",
   "metadata": {},
   "source": [
    "Übergeben Sie Ihre Listen mit Tokens der Variable \"sentences\" als numpy-Array"
   ]
  },
  {
   "cell_type": "code",
   "execution_count": null,
   "id": "30d66b27",
   "metadata": {},
   "outputs": [],
   "source": [
    "### Your Code Here"
   ]
  },
  {
   "cell_type": "code",
   "execution_count": null,
   "id": "08d2886b",
   "metadata": {},
   "outputs": [],
   "source": [
    "# Training des Modells\n",
    "model = Word2Vec(sentences, min_count=1)"
   ]
  },
  {
   "cell_type": "code",
   "execution_count": null,
   "id": "140415db",
   "metadata": {},
   "outputs": [],
   "source": [
    "print(model)"
   ]
  },
  {
   "cell_type": "code",
   "execution_count": null,
   "id": "2063654f",
   "metadata": {},
   "outputs": [],
   "source": [
    "## Ausgabe des Vokabulars\n",
    "words = list(model.wv.index_to_key)"
   ]
  },
  {
   "cell_type": "code",
   "execution_count": null,
   "id": "6c019f37",
   "metadata": {},
   "outputs": [],
   "source": [
    "print(words)"
   ]
  },
  {
   "cell_type": "markdown",
   "id": "8c1a0f4e",
   "metadata": {},
   "source": [
    "Lassen Sie sich Ihre WordEmbeddings plotten, indem Sie den unten stehenden Code ausführen:"
   ]
  },
  {
   "cell_type": "code",
   "execution_count": null,
   "id": "41547dc0",
   "metadata": {},
   "outputs": [],
   "source": [
    "X = model.wv[model.wv.index_to_key]\n",
    "\n",
    "pca = PCA(n_components=2)\n",
    "result = pca.fit_transform(X)"
   ]
  },
  {
   "cell_type": "code",
   "execution_count": null,
   "id": "8e1968a0",
   "metadata": {},
   "outputs": [],
   "source": [
    "plt.scatter(result[:,0],result[:,1])\n",
    "words = list(model.wv.index_to_key)\n",
    "for i, word in enumerate(words):\n",
    "    plt.annotate(word, xy=(result[i,0], result[i,1]))\n",
    "plt.show()"
   ]
  }
 ],
 "metadata": {
  "kernelspec": {
   "display_name": "Python 3",
   "language": "python",
   "name": "python3"
  },
  "language_info": {
   "codemirror_mode": {
    "name": "ipython",
    "version": 3
   },
   "file_extension": ".py",
   "mimetype": "text/x-python",
   "name": "python",
   "nbconvert_exporter": "python",
   "pygments_lexer": "ipython3",
   "version": "3.8.8"
  }
 },
 "nbformat": 4,
 "nbformat_minor": 5
}
