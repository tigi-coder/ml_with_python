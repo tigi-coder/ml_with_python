{
 "cells": [
  {
   "cell_type": "code",
   "execution_count": 47,
   "metadata": {},
   "outputs": [],
   "source": [
    "import pandas as pd\n",
    "from gensim.models import Word2Vec\n",
    "from gensim.models import KeyedVectors\n",
    "import numpy as np\n",
    "from sklearn.decomposition import PCA\n",
    "import matplotlib.pyplot as plt"
   ]
  },
  {
   "cell_type": "code",
   "execution_count": null,
   "metadata": {},
   "outputs": [],
   "source": [
    "df = pd.read_excel(\"../Datasets/Beispiel.xlsx\")"
   ]
  },
  {
   "cell_type": "markdown",
   "metadata": {},
   "source": [
    "### Tokenizer"
   ]
  },
  {
   "cell_type": "code",
   "execution_count": null,
   "metadata": {},
   "outputs": [],
   "source": [
    "df['word_array'] = df[\"Kurztext Vrg.\"].apply(lambda x: x.split(\" \"))"
   ]
  },
  {
   "cell_type": "markdown",
   "metadata": {},
   "source": [
    "### Modelltraining"
   ]
  },
  {
   "cell_type": "markdown",
   "metadata": {},
   "source": [
    "eigentlich würden jetzt noch mehrere Pre-Processing Schritte folgen, wie Stemming oder das Entfernen von Stopwords, aber das würde mehr Wissen über den Business Context benötigen"
   ]
  },
  {
   "cell_type": "code",
   "execution_count": 16,
   "metadata": {},
   "outputs": [],
   "source": [
    "sentences = np.array(df['word_array'])"
   ]
  },
  {
   "cell_type": "code",
   "execution_count": 17,
   "metadata": {},
   "outputs": [],
   "source": [
    "model = Word2Vec(sentences, min_count=1)"
   ]
  },
  {
   "cell_type": "code",
   "execution_count": 18,
   "metadata": {},
   "outputs": [
    {
     "name": "stdout",
     "output_type": "stream",
     "text": [
      "Word2Vec(vocab=347, vector_size=100, alpha=0.025)\n"
     ]
    }
   ],
   "source": [
    "print(model)"
   ]
  },
  {
   "cell_type": "code",
   "execution_count": 20,
   "metadata": {},
   "outputs": [],
   "source": [
    "words = list(model.wv.index_to_key)"
   ]
  },
  {
   "cell_type": "code",
   "execution_count": 21,
   "metadata": {},
   "outputs": [
    {
     "name": "stdout",
     "output_type": "stream",
     "text": [
      "['-Sicht-', 'Befundung', 'und', 'zu', 'Geräteeingang', 'Geräteausgang', 'vor', 'ern.', 'durchführen', 'def.,', 'Zählerstandserfassung', 'defekt', 'Funktion,', 'Frist', 'jährliche', 'inst.', 'prüfen', 'ohne', 'links', 'WARTUNG', 'dok', 'FRIST', 'im', 'ern', 'do', 'Prüfung', '(F2)', 'B', 'gebrochen,', 'erneue', 'Reifen', 'dokumenti', 'F2', 'Motorhaube', 'dokumentieren', 'UVV-Prüfung', 'UVV', 'Jährliche', 'der', 'einstellen', 'Handbremshebel', 'an', 'erneuern.', 'hinten', 'Hinweis:', 'Schutz', '/', 'Inspektion', 'u', 'Rohrleitungen', 'def.', 'o.F.', 'fehlen,', 'lackieren.', 'Mehrzweckschaufel', 'i', 'Armlehne', 'macht', 'Vorderachse', 'innen', 'Aufnahme', 'Hydraulikschaltung', 'erneuern', 'Schlauchleitungen', 'Aufkleber', 'Div.', 'Klimaanlagenfrist', 'stark', 'Motorhalterung', 'WI', 'prüfen,', 'Lenksäulenverkleidung', 'nach', 'nicht,', 'Kennzeichenlampen', 'un', 'Diese', 'Bereich', 'Schlauchprüfung', 'Klimaservice', '500', 'Zusatzscheinwerfer', 'Kraftstoffundichtigkeit', 'BGR', 'F3', 'undicht,', 'Hubwerksfederung', 'beide', 'Anschlußschläuche', 'Tiefenlöffel', 'rechts', 'Armlehnenplatte,', 'verschlissen', 'Außenspiegel', 'Bedienhebel', 'R.', 'befestigen.', 'Dosenlibelle', 'Einstieg', 'unten', 'fest,', 'F4', 'inst', 'Feststeller', 'Tüen', 'Flüssigkeit', 'Ausgleichsbehälter', 'Bremse', 'Handbremse', 'defekt,', 'für', 'Scheibenwaschpumpe', 'HINWEIS:', '!', 'verschlissen,', 'Feuchtigkeit,', 'o.F.,', 'einstellen.', 'Temperaturanzeige', 'keine', ')', 'Rücklicht', '(', 'VA', 'Tarnlicht', 'Türverriegelung', 'Schaufelschutz', 'Scheibenwaschanlage', 'Türschloß', 'D', '(F4)', 'vorn', 'Tachograph', 'Staubschutzkappe', 'Hydr.-Schläuche', 'fehlen/', 'gangbar', 'machen.', 'Drehteile', 'teilweise', 'bef.', 'fehlen', 'Diverse', 'Insten', 'Tachometer', 'Geschwindigkeitsanzeige', 'undicht.', 'Dieselleitung', 'spo', 'oder', 'dazu', 'Staubkappen', '-', 'H3', 'Frontscheinwerfer', 'def,', 'Schwenkpedal', 'Sichtungsunterstützung', 'SysFw.', 'Sichtung', 'A', 'fehlersuche,', 'E-anlage', 'Spurstangeköpfe', 'in', 'Fehler', 'Schliesszylinder', 'Fahrertür', '12/13', 'F5', 'dokumentieren.', '11/12', '4x', 'ausgeschlagen/', 'Frsit', 'SPURSTANGENKOEPFE', '06/13', 'durchf³hren', '(05/12)', 'Halteclips', 'AUSGESCHLAGEN', 'CO/CO2', 'diverse', 'besc', 'abnormele', 'L.', 'Gerõuscheent', 'FEHLERHAFT', 'TEMPERATUR', 'OEL', 'ANZEIGE', 'Geräusche', 'porös', 'VORDERACHSE', 'MACHT', 'abnorme', 'GERõUSCHE,-', 'Vorglühanlage', 'oberhalb', 'Zylinder', 'sporadische', 'Schaufel', '4x1', '100-Stunden-Frist', 'Vorglührelais', 'CO-CO2', 'Gerõusche', 'fe', 'Dachhimmel', 'fahlt,', 'Tankdeckel', 'HA', 'schließt', 'Deckel', 'Bremslichtschalter', 'Blinklichtschalter', 'Hydraulikanschluß', 'undicht/W', 'Schlösser', 'anbring', 'Batterieschlittenanschlag', 'Verschlußdeckel', 'anbringen', 'STARKER', 'Batterieschlitten', 'gebrochen,Spiegel', 'lose/befestigen', 'Gestänge', 'OELVERLUST', 'e', 'starker', 'Ölverlust,', 'Lampe', 'Geräusche/prüfen,', 'hat', 'gebrochen', 'Klimapr³fung', 'Kontrollg', 'belastet,', 'sporadisch', 'wurde', 'Kette', '(v', 'lose', 'Klima', 'Keilriemen', 'fehlersu', 'Wartung', 'Hubwerkpumpe', 'Kabelbrand', 'Klimaanalge', 'Servicearbeiten', 'Jõhrliche', 'Järliche', 'durchf.', 'durchführe', 'Jährlicher', 'v', 'Schaufelarm', 'ausgerichte', 'Rückstrahler', 'durchführen,', 'Anlage', 'Kontrollampen', 'INSTANDSETZEN;', 'l', 'MOTORHAUBE', 'defekt/erneuen', 'Hydraulikanlage', 'Lüfter', 'DEFEKT', 'LUEFTER', 'Markierung', 'Leuchte', 'DEFEKT,', 'Lich', 'erlischt', 'Schutzschild', 'Ladekontrolle', 'erne', 'Motorhaubenbefestigung', 'Kupplungsstecker', 'gerissen,', 'Motorha', 'Multifunktionsgriff', 'verformt', '#berlastk.', 'zur', 'Kontrollglieder', 'CO-Prüfung', 'Schalterbeleuchtung', 'abnormale', '2x', 'Räder', 'Zusatzhydraulik', 'oben', 'Schloß', 'Tür', 'Schloßverkeidung', 'Hintere', 'gebro', 'Gewicht', 'Höhenverstellung', 'Schmiernippel', 'Hebel', 'Kippzylinder', 'defeket', 'Haubenzylinder', 'teilweis', 'schwärgängig', 'ausgebohrt', 'eins', 'Seil', '+', 'Schristzug', 'AS70M', 'Ölen', 'umbauen', 'Verschleisgernez', 'HL', 'p', 'undicht', 'def./erneuern', 'Klimafrist', 'Jählliche', 'erneuer', 'MIGRATION/DEMIGRATION', 'INSPEKT', 'Schläuche', 'frü', 'Insp', 'Hydraulikschläuche', 'DK', 'Filter', 'HR', 'lose/befes', 'Ahlmann', 'am', 'Hydraulikleitungen', 'Erdmasc', 'Hydraulikanschlüsse', 'erneuert', 'Kipp', 'Hubzylinder', 'errreic', 'Verschleisgrenze', '1/2']\n"
     ]
    }
   ],
   "source": [
    "print(words)"
   ]
  },
  {
   "cell_type": "code",
   "execution_count": 25,
   "metadata": {},
   "outputs": [
    {
     "data": {
      "text/plain": [
       "array([-0.00296743,  0.00498068, -0.00162992, -0.00920764, -0.00326496,\n",
       "        0.00677252,  0.00533652,  0.00450124,  0.00612991, -0.00920422,\n",
       "        0.00106692,  0.00382787, -0.002436  , -0.00278235,  0.00639179,\n",
       "       -0.00851926,  0.00334767,  0.00403759,  0.00200845,  0.00370497,\n",
       "       -0.00660852,  0.00257722, -0.00155239, -0.00374219,  0.00882748,\n",
       "       -0.00740368, -0.00754832, -0.0059853 , -0.00895049, -0.00186602,\n",
       "       -0.00871571, -0.00426161,  0.0058727 , -0.002246  , -0.00610435,\n",
       "       -0.00365985, -0.00713786,  0.00843201,  0.00354616, -0.00018721,\n",
       "        0.00974311,  0.00740574, -0.00536831, -0.00786608,  0.00610374,\n",
       "        0.005898  , -0.00264005,  0.00556485,  0.00884997,  0.00293793,\n",
       "       -0.00566312, -0.00126037, -0.00711889,  0.00800986, -0.00475826,\n",
       "        0.00420085,  0.00609955, -0.00076829, -0.00029396,  0.00796551,\n",
       "       -0.00472958,  0.00994162,  0.00417597,  0.00337236, -0.00275934,\n",
       "       -0.00325207, -0.00419448, -0.00735375,  0.00658295, -0.00352662,\n",
       "       -0.0091612 ,  0.00877996,  0.00377412,  0.00134078,  0.00149044,\n",
       "       -0.00349582,  0.00261286,  0.00657709,  0.00910333, -0.00153137,\n",
       "        0.00923647,  0.0039234 ,  0.0041571 ,  0.00993033, -0.00932163,\n",
       "        0.00335935,  0.00198282,  0.00470901, -0.00136992, -0.00431548,\n",
       "        0.00045939,  0.00709561, -0.00493368, -0.00256164,  0.0003803 ,\n",
       "        0.00417723,  0.00305081, -0.00885727,  0.00272347, -0.00142283],\n",
       "      dtype=float32)"
      ]
     },
     "execution_count": 25,
     "metadata": {},
     "output_type": "execute_result"
    }
   ],
   "source": [
    "model.wv[\"Außenspiegel\"] ## Word Embedding für Außenspiegel"
   ]
  },
  {
   "cell_type": "markdown",
   "metadata": {},
   "source": [
    "### Word Embeddings plotten"
   ]
  },
  {
   "cell_type": "code",
   "execution_count": 30,
   "metadata": {},
   "outputs": [],
   "source": [
    "X = model.wv[model.wv.index_to_key]\n",
    "\n",
    "pca = PCA(n_components=2)\n",
    "result = pca.fit_transform(X)"
   ]
  },
  {
   "cell_type": "code",
   "execution_count": 32,
   "metadata": {},
   "outputs": [
    {
     "data": {
      "text/plain": [
       "<matplotlib.collections.PathCollection at 0x204b4884be0>"
      ]
     },
     "execution_count": 32,
     "metadata": {},
     "output_type": "execute_result"
    },
    {
     "data": {
      "image/png": "[encoded data removed]",
      "text/plain": [
       "<Figure size 432x288 with 1 Axes>"
      ]
     },
     "metadata": {
      "needs_background": "light"
     },
     "output_type": "display_data"
    }
   ],
   "source": [
    "plt.scatter(result[:,0], result[:,1])"
   ]
  },
  {
   "cell_type": "code",
   "execution_count": 43,
   "metadata": {},
   "outputs": [
    {
     "data": {
      "image/png": "[encoded data removed]",
      "text/plain": [
       "<Figure size 432x288 with 1 Axes>"
      ]
     },
     "metadata": {
      "needs_background": "light"
     },
     "output_type": "display_data"
    }
   ],
   "source": [
    "plt.scatter(result[:,0],result[:,1])\n",
    "words = [\"Hydraulikschläuche\",\"Hydraulikanschlüsse\",\"Schläuche\",\"Anschlußschläuche\"]\n",
    "#words = list(model.wv.index_to_key)\n",
    "for i, word in enumerate(words):\n",
    "    plt.annotate(word, xy=(result[i,0], result[i,1]))\n",
    "plt.show()"
   ]
  },
  {
   "cell_type": "markdown",
   "metadata": {},
   "source": [
    "### Laden eines Vortrainierten Modells"
   ]
  },
  {
   "cell_type": "code",
   "execution_count": null,
   "metadata": {},
   "outputs": [],
   "source": [
    "model = KeyedVectors.load_word2vec_format(\"../Modelle/cc.10kmini_de.300.vec\")"
   ]
  },
  {
   "cell_type": "markdown",
   "metadata": {},
   "source": [
    "Mit dem Modell können auch arithmetische Operationen ausgeführt werden. Beispielsweise (König - Mann) + Frau = ?"
   ]
  },
  {
   "cell_type": "code",
   "execution_count": 49,
   "metadata": {},
   "outputs": [
    {
     "data": {
      "text/plain": [
       "[('Königin', 0.6669719219207764)]"
      ]
     },
     "execution_count": 49,
     "metadata": {},
     "output_type": "execute_result"
    }
   ],
   "source": [
    "model.most_similar(positive=['Frau','König'], negative=['Mann'],topn=1)"
   ]
  },
  {
   "cell_type": "code",
   "execution_count": 52,
   "metadata": {},
   "outputs": [
    {
     "data": {
      "text/plain": [
       "[('Sofa', 0.6547176837921143)]"
      ]
     },
     "execution_count": 52,
     "metadata": {},
     "output_type": "execute_result"
    }
   ],
   "source": [
    "model.most_similar(positive=['Stuhl','Tisch'], topn=1)"
   ]
  },
  {
   "cell_type": "code",
   "execution_count": 66,
   "metadata": {},
   "outputs": [
    {
     "data": {
      "text/plain": [
       "0.68957716"
      ]
     },
     "execution_count": 66,
     "metadata": {},
     "output_type": "execute_result"
    }
   ],
   "source": [
    "model.similarity(\"Auto\",\"Motorrad\")"
   ]
  },
  {
   "cell_type": "code",
   "execution_count": 80,
   "metadata": {},
   "outputs": [
    {
     "data": {
      "text/plain": [
       "0.6279824"
      ]
     },
     "execution_count": 80,
     "metadata": {},
     "output_type": "execute_result"
    }
   ],
   "source": [
    "model.similarity(\"Fußball\",\"Sport\")"
   ]
  },
  {
   "cell_type": "code",
   "execution_count": 81,
   "metadata": {},
   "outputs": [
    {
     "data": {
      "text/plain": [
       "0.53690225"
      ]
     },
     "execution_count": 81,
     "metadata": {},
     "output_type": "execute_result"
    }
   ],
   "source": [
    "model.similarity(\"blau\",\"Farbe\")"
   ]
  },
  {
   "cell_type": "code",
   "execution_count": 84,
   "metadata": {},
   "outputs": [
    {
     "data": {
      "text/plain": [
       "0.26180625"
      ]
     },
     "execution_count": 84,
     "metadata": {},
     "output_type": "execute_result"
    }
   ],
   "source": [
    "model.similarity(\"Auto\",\"Stuhl\")"
   ]
  }
 ],
 "metadata": {
  "kernelspec": {
   "display_name": "Python 3",
   "language": "python",
   "name": "python3"
  },
  "language_info": {
   "codemirror_mode": {
    "name": "ipython",
    "version": 3
   },
   "file_extension": ".py",
   "mimetype": "text/x-python",
   "name": "python",
   "nbconvert_exporter": "python",
   "pygments_lexer": "ipython3",
   "version": "3.8.8"
  }
 },
 "nbformat": 4,
 "nbformat_minor": 4
}
