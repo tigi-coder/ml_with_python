{
 "cells": [
  {
   "cell_type": "markdown",
   "id": "ae93f83f",
   "metadata": {},
   "source": [
    "## Imports"
   ]
  },
  {
   "cell_type": "code",
   "execution_count": 3,
   "id": "dcd5471c",
   "metadata": {},
   "outputs": [],
   "source": [
    "import pandas as pd\n",
    "import numpy as np"
   ]
  },
  {
   "cell_type": "markdown",
   "id": "b967def6",
   "metadata": {},
   "source": [
    "# Python"
   ]
  },
  {
   "cell_type": "markdown",
   "id": "386a91c4",
   "metadata": {},
   "source": [
    "### Variable Assignment"
   ]
  },
  {
   "cell_type": "code",
   "execution_count": null,
   "id": "f9502f52",
   "metadata": {},
   "outputs": [],
   "source": []
  },
  {
   "cell_type": "markdown",
   "id": "61f04798",
   "metadata": {},
   "source": [
    "### Types"
   ]
  },
  {
   "cell_type": "markdown",
   "id": "6336db22",
   "metadata": {},
   "source": [
    "### Strings"
   ]
  },
  {
   "cell_type": "markdown",
   "id": "6209e203",
   "metadata": {},
   "source": [
    "### Lists"
   ]
  },
  {
   "cell_type": "markdown",
   "id": "a98b7690",
   "metadata": {},
   "source": [
    "### Dictionaries"
   ]
  },
  {
   "cell_type": "markdown",
   "id": "d9136646",
   "metadata": {},
   "source": [
    "# Numpy"
   ]
  },
  {
   "cell_type": "markdown",
   "id": "4f8d195f",
   "metadata": {},
   "source": [
    "### Numpy Arrays"
   ]
  },
  {
   "cell_type": "markdown",
   "id": "d8f84a72",
   "metadata": {},
   "source": []
  },
  {
   "cell_type": "markdown",
   "id": "3eadb1b2",
   "metadata": {},
   "source": [
    "# Pandas"
   ]
  },
  {
   "cell_type": "markdown",
   "id": "c1982258",
   "metadata": {},
   "source": [
    "### Pandas Dataframe"
   ]
  },
  {
   "cell_type": "markdown",
   "id": "c05d23f6",
   "metadata": {},
   "source": [
    "### Pandas Series"
   ]
  },
  {
   "cell_type": "markdown",
   "id": "892b8f0b",
   "metadata": {},
   "source": [
    "### Indexing"
   ]
  },
  {
   "cell_type": "code",
   "execution_count": null,
   "id": "804d91e5",
   "metadata": {},
   "outputs": [],
   "source": [
    "### iloc"
   ]
  },
  {
   "cell_type": "code",
   "execution_count": null,
   "id": "bd041c17",
   "metadata": {},
   "outputs": [],
   "source": [
    "### loc"
   ]
  },
  {
   "cell_type": "code",
   "execution_count": null,
   "id": "508568ad",
   "metadata": {},
   "outputs": [],
   "source": [
    "### ix"
   ]
  },
  {
   "cell_type": "markdown",
   "id": "30ba42d1",
   "metadata": {},
   "source": [
    "### nützliche Funktionen"
   ]
  },
  {
   "cell_type": "code",
   "execution_count": null,
   "id": "f5c197de",
   "metadata": {},
   "outputs": [],
   "source": [
    "### head"
   ]
  },
  {
   "cell_type": "code",
   "execution_count": null,
   "id": "7b384ba8",
   "metadata": {},
   "outputs": [],
   "source": [
    "### info"
   ]
  },
  {
   "cell_type": "code",
   "execution_count": null,
   "id": "f7e6d072",
   "metadata": {},
   "outputs": [],
   "source": [
    "### Funktionen anwenden"
   ]
  }
 ],
 "metadata": {
  "kernelspec": {
   "display_name": "Python 3",
   "language": "python",
   "name": "python3"
  },
  "language_info": {
   "codemirror_mode": {
    "name": "ipython",
    "version": 3
   },
   "file_extension": ".py",
   "mimetype": "text/x-python",
   "name": "python",
   "nbconvert_exporter": "python",
   "pygments_lexer": "ipython3",
   "version": "3.8.8"
  }
 },
 "nbformat": 4,
 "nbformat_minor": 5
}
