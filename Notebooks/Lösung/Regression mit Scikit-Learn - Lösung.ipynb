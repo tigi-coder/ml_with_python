{
 "cells": [
  {
   "cell_type": "markdown",
   "id": "e471a9e1",
   "metadata": {},
   "source": [
    "## Use Case Vorhersage von Sales Daten mithilfe Linearer Regression\n",
    "Falls wir keine kategorischen sondern metrisch skalierten Werte (numerisch) vorhersagen wollen, müssen wir eine Regression anwenden. Eine einfache Methode dies zu tun ist eine sogenannte Lineare Regression. "
   ]
  },
  {
   "cell_type": "code",
   "execution_count": 1,
   "id": "b5d23f64",
   "metadata": {},
   "outputs": [],
   "source": [
    "#imports \n",
    "import pandas as pd\n",
    "import plotly.express as px"
   ]
  },
  {
   "cell_type": "code",
   "execution_count": 2,
   "id": "e077b65f",
   "metadata": {},
   "outputs": [],
   "source": [
    "sales = pd.read_csv('../Datasets/sales_all.csv')"
   ]
  },
  {
   "cell_type": "markdown",
   "id": "aa471b6f",
   "metadata": {},
   "source": [
    "Sie bereits eine kleine explorative Datenanalyse in der Vorschau gesehen. Diese ist äußerst wichtig um relevante Features zu extrahieren. Lassen sie sich mit sales.head() die ersten Zeilen ausgeben und entscheiden Sie dann mit sales.loc oder sales.iloc welche Features Sie übernehmen wollen und was Ihr target ist."
   ]
  },
  {
   "cell_type": "code",
   "execution_count": 3,
   "id": "dfd7f999",
   "metadata": {},
   "outputs": [
    {
     "data": {
      "text/html": [
       "<div>\n",
       "<style scoped>\n",
       "    .dataframe tbody tr th:only-of-type {\n",
       "        vertical-align: middle;\n",
       "    }\n",
       "\n",
       "    .dataframe tbody tr th {\n",
       "        vertical-align: top;\n",
       "    }\n",
       "\n",
       "    .dataframe thead th {\n",
       "        text-align: right;\n",
       "    }\n",
       "</style>\n",
       "<table border=\"1\" class=\"dataframe\">\n",
       "  <thead>\n",
       "    <tr style=\"text-align: right;\">\n",
       "      <th></th>\n",
       "      <th>date</th>\n",
       "      <th>WeekdayNo</th>\n",
       "      <th>Weekday</th>\n",
       "      <th>HolidayFlag</th>\n",
       "      <th>SchoolHolidayFlag</th>\n",
       "      <th>Sales</th>\n",
       "    </tr>\n",
       "  </thead>\n",
       "  <tbody>\n",
       "    <tr>\n",
       "      <th>0</th>\n",
       "      <td>2012-01-01</td>\n",
       "      <td>6</td>\n",
       "      <td>Sun</td>\n",
       "      <td>True</td>\n",
       "      <td>True</td>\n",
       "      <td>117.0</td>\n",
       "    </tr>\n",
       "    <tr>\n",
       "      <th>1</th>\n",
       "      <td>2012-01-02</td>\n",
       "      <td>0</td>\n",
       "      <td>Mon</td>\n",
       "      <td>False</td>\n",
       "      <td>True</td>\n",
       "      <td>106.0</td>\n",
       "    </tr>\n",
       "    <tr>\n",
       "      <th>2</th>\n",
       "      <td>2012-01-03</td>\n",
       "      <td>1</td>\n",
       "      <td>Tue</td>\n",
       "      <td>False</td>\n",
       "      <td>True</td>\n",
       "      <td>82.0</td>\n",
       "    </tr>\n",
       "    <tr>\n",
       "      <th>3</th>\n",
       "      <td>2012-01-04</td>\n",
       "      <td>2</td>\n",
       "      <td>Wed</td>\n",
       "      <td>False</td>\n",
       "      <td>True</td>\n",
       "      <td>70.0</td>\n",
       "    </tr>\n",
       "    <tr>\n",
       "      <th>4</th>\n",
       "      <td>2012-01-05</td>\n",
       "      <td>3</td>\n",
       "      <td>Thur</td>\n",
       "      <td>False</td>\n",
       "      <td>True</td>\n",
       "      <td>84.0</td>\n",
       "    </tr>\n",
       "  </tbody>\n",
       "</table>\n",
       "</div>"
      ],
      "text/plain": [
       "         date  WeekdayNo Weekday  HolidayFlag  SchoolHolidayFlag  Sales\n",
       "0  2012-01-01          6     Sun         True               True  117.0\n",
       "1  2012-01-02          0     Mon        False               True  106.0\n",
       "2  2012-01-03          1     Tue        False               True   82.0\n",
       "3  2012-01-04          2     Wed        False               True   70.0\n",
       "4  2012-01-05          3    Thur        False               True   84.0"
      ]
     },
     "execution_count": 3,
     "metadata": {},
     "output_type": "execute_result"
    }
   ],
   "source": [
    "# Lassen Sie sich die ersten Zeilen ausgeben\n",
    "sales.head()"
   ]
  },
  {
   "cell_type": "markdown",
   "id": "0af1075b",
   "metadata": {},
   "source": [
    "Jetzt wählen Sie Ihre Features und das target aus."
   ]
  },
  {
   "cell_type": "code",
   "execution_count": 6,
   "id": "cda21663",
   "metadata": {},
   "outputs": [],
   "source": [
    "X = sales.iloc[:,1:-1]\n",
    "y = sales.Sales"
   ]
  },
  {
   "cell_type": "markdown",
   "id": "a6a72f48",
   "metadata": {},
   "source": [
    "Da eine Regression eine Funktion aufstellt um Werte vorhersagen zu können, müssen alle kategorischen Features zu numerischen Features umgewandelt werden. Dies geht durch sogenanntes One-Hot-Encoding. Dies geht in pandas mit der Funktion pd.get_dummies(). Als Input müssen Sie lediglich Ihren Featureraum X angeben."
   ]
  },
  {
   "cell_type": "code",
   "execution_count": 7,
   "id": "3a96b15e",
   "metadata": {},
   "outputs": [
    {
     "data": {
      "text/html": [
       "<div>\n",
       "<style scoped>\n",
       "    .dataframe tbody tr th:only-of-type {\n",
       "        vertical-align: middle;\n",
       "    }\n",
       "\n",
       "    .dataframe tbody tr th {\n",
       "        vertical-align: top;\n",
       "    }\n",
       "\n",
       "    .dataframe thead th {\n",
       "        text-align: right;\n",
       "    }\n",
       "</style>\n",
       "<table border=\"1\" class=\"dataframe\">\n",
       "  <thead>\n",
       "    <tr style=\"text-align: right;\">\n",
       "      <th></th>\n",
       "      <th>WeekdayNo</th>\n",
       "      <th>HolidayFlag</th>\n",
       "      <th>SchoolHolidayFlag</th>\n",
       "      <th>Weekday_Fri</th>\n",
       "      <th>Weekday_Mon</th>\n",
       "      <th>Weekday_Sat</th>\n",
       "      <th>Weekday_Sun</th>\n",
       "      <th>Weekday_Thur</th>\n",
       "      <th>Weekday_Tue</th>\n",
       "      <th>Weekday_Wed</th>\n",
       "    </tr>\n",
       "  </thead>\n",
       "  <tbody>\n",
       "    <tr>\n",
       "      <th>0</th>\n",
       "      <td>6</td>\n",
       "      <td>True</td>\n",
       "      <td>True</td>\n",
       "      <td>0</td>\n",
       "      <td>0</td>\n",
       "      <td>0</td>\n",
       "      <td>1</td>\n",
       "      <td>0</td>\n",
       "      <td>0</td>\n",
       "      <td>0</td>\n",
       "    </tr>\n",
       "    <tr>\n",
       "      <th>1</th>\n",
       "      <td>0</td>\n",
       "      <td>False</td>\n",
       "      <td>True</td>\n",
       "      <td>0</td>\n",
       "      <td>1</td>\n",
       "      <td>0</td>\n",
       "      <td>0</td>\n",
       "      <td>0</td>\n",
       "      <td>0</td>\n",
       "      <td>0</td>\n",
       "    </tr>\n",
       "    <tr>\n",
       "      <th>2</th>\n",
       "      <td>1</td>\n",
       "      <td>False</td>\n",
       "      <td>True</td>\n",
       "      <td>0</td>\n",
       "      <td>0</td>\n",
       "      <td>0</td>\n",
       "      <td>0</td>\n",
       "      <td>0</td>\n",
       "      <td>1</td>\n",
       "      <td>0</td>\n",
       "    </tr>\n",
       "    <tr>\n",
       "      <th>3</th>\n",
       "      <td>2</td>\n",
       "      <td>False</td>\n",
       "      <td>True</td>\n",
       "      <td>0</td>\n",
       "      <td>0</td>\n",
       "      <td>0</td>\n",
       "      <td>0</td>\n",
       "      <td>0</td>\n",
       "      <td>0</td>\n",
       "      <td>1</td>\n",
       "    </tr>\n",
       "    <tr>\n",
       "      <th>4</th>\n",
       "      <td>3</td>\n",
       "      <td>False</td>\n",
       "      <td>True</td>\n",
       "      <td>0</td>\n",
       "      <td>0</td>\n",
       "      <td>0</td>\n",
       "      <td>0</td>\n",
       "      <td>1</td>\n",
       "      <td>0</td>\n",
       "      <td>0</td>\n",
       "    </tr>\n",
       "    <tr>\n",
       "      <th>...</th>\n",
       "      <td>...</td>\n",
       "      <td>...</td>\n",
       "      <td>...</td>\n",
       "      <td>...</td>\n",
       "      <td>...</td>\n",
       "      <td>...</td>\n",
       "      <td>...</td>\n",
       "      <td>...</td>\n",
       "      <td>...</td>\n",
       "      <td>...</td>\n",
       "    </tr>\n",
       "    <tr>\n",
       "      <th>1918</th>\n",
       "      <td>6</td>\n",
       "      <td>False</td>\n",
       "      <td>False</td>\n",
       "      <td>0</td>\n",
       "      <td>0</td>\n",
       "      <td>0</td>\n",
       "      <td>1</td>\n",
       "      <td>0</td>\n",
       "      <td>0</td>\n",
       "      <td>0</td>\n",
       "    </tr>\n",
       "    <tr>\n",
       "      <th>1919</th>\n",
       "      <td>0</td>\n",
       "      <td>False</td>\n",
       "      <td>False</td>\n",
       "      <td>0</td>\n",
       "      <td>1</td>\n",
       "      <td>0</td>\n",
       "      <td>0</td>\n",
       "      <td>0</td>\n",
       "      <td>0</td>\n",
       "      <td>0</td>\n",
       "    </tr>\n",
       "    <tr>\n",
       "      <th>1920</th>\n",
       "      <td>1</td>\n",
       "      <td>False</td>\n",
       "      <td>False</td>\n",
       "      <td>0</td>\n",
       "      <td>0</td>\n",
       "      <td>0</td>\n",
       "      <td>0</td>\n",
       "      <td>0</td>\n",
       "      <td>1</td>\n",
       "      <td>0</td>\n",
       "    </tr>\n",
       "    <tr>\n",
       "      <th>1921</th>\n",
       "      <td>2</td>\n",
       "      <td>False</td>\n",
       "      <td>False</td>\n",
       "      <td>0</td>\n",
       "      <td>0</td>\n",
       "      <td>0</td>\n",
       "      <td>0</td>\n",
       "      <td>0</td>\n",
       "      <td>0</td>\n",
       "      <td>1</td>\n",
       "    </tr>\n",
       "    <tr>\n",
       "      <th>1922</th>\n",
       "      <td>3</td>\n",
       "      <td>False</td>\n",
       "      <td>False</td>\n",
       "      <td>0</td>\n",
       "      <td>0</td>\n",
       "      <td>0</td>\n",
       "      <td>0</td>\n",
       "      <td>1</td>\n",
       "      <td>0</td>\n",
       "      <td>0</td>\n",
       "    </tr>\n",
       "  </tbody>\n",
       "</table>\n",
       "<p>1923 rows × 10 columns</p>\n",
       "</div>"
      ],
      "text/plain": [
       "      WeekdayNo  HolidayFlag  SchoolHolidayFlag  Weekday_Fri  Weekday_Mon  \\\n",
       "0             6         True               True            0            0   \n",
       "1             0        False               True            0            1   \n",
       "2             1        False               True            0            0   \n",
       "3             2        False               True            0            0   \n",
       "4             3        False               True            0            0   \n",
       "...         ...          ...                ...          ...          ...   \n",
       "1918          6        False              False            0            0   \n",
       "1919          0        False              False            0            1   \n",
       "1920          1        False              False            0            0   \n",
       "1921          2        False              False            0            0   \n",
       "1922          3        False              False            0            0   \n",
       "\n",
       "      Weekday_Sat  Weekday_Sun  Weekday_Thur  Weekday_Tue  Weekday_Wed  \n",
       "0               0            1             0            0            0  \n",
       "1               0            0             0            0            0  \n",
       "2               0            0             0            1            0  \n",
       "3               0            0             0            0            1  \n",
       "4               0            0             1            0            0  \n",
       "...           ...          ...           ...          ...          ...  \n",
       "1918            0            1             0            0            0  \n",
       "1919            0            0             0            0            0  \n",
       "1920            0            0             0            1            0  \n",
       "1921            0            0             0            0            1  \n",
       "1922            0            0             1            0            0  \n",
       "\n",
       "[1923 rows x 10 columns]"
      ]
     },
     "execution_count": 7,
     "metadata": {},
     "output_type": "execute_result"
    }
   ],
   "source": [
    "one_hot_encoded_data = pd.get_dummies(X)\n",
    "one_hot_encoded_data"
   ]
  },
  {
   "cell_type": "markdown",
   "id": "86d0b0cf",
   "metadata": {},
   "source": [
    "Um die Güte des Modells evaluieren zu können, machen wir zuvor einen Train-/Test split. Dieser teilt die Daten in verschiedene Partitionen auf. Die größte Partition wird dann für das Training benutzt und eine eher kleine Menge zum testen des Modells. Dies sieht wie folgt aus:"
   ]
  },
  {
   "cell_type": "code",
   "execution_count": 10,
   "id": "8d4a5adc",
   "metadata": {},
   "outputs": [],
   "source": [
    "from sklearn.model_selection import train_test_split\n",
    "X_train, X_test, y_train, y_test = train_test_split(one_hot_encoded_data,y, test_size=0.2)"
   ]
  },
  {
   "cell_type": "markdown",
   "id": "685cee56",
   "metadata": {},
   "source": [
    "Nun können Sie Ihr Modell mit fit-Methode 'fitten' (trainieren) und anschließend mit den zuvor extrahierten Testdaten die Güte evaluieren."
   ]
  },
  {
   "cell_type": "code",
   "execution_count": 11,
   "id": "3a952aae",
   "metadata": {},
   "outputs": [
    {
     "data": {
      "text/plain": [
       "0.9480643758370603"
      ]
     },
     "execution_count": 11,
     "metadata": {},
     "output_type": "execute_result"
    }
   ],
   "source": [
    "# imports\n",
    "from sklearn.linear_model import LinearRegression\n",
    "lm = LinearRegression()\n",
    "lm.fit(X_train, y_train)\n",
    "\n",
    "lm.score(X_test, y_test)"
   ]
  },
  {
   "cell_type": "markdown",
   "id": "a236950e",
   "metadata": {},
   "source": [
    "Sie können Werte mit der Methode predict vorhersagen."
   ]
  },
  {
   "cell_type": "code",
   "execution_count": 12,
   "id": "c67227d7",
   "metadata": {},
   "outputs": [
    {
     "data": {
      "text/plain": [
       "array([ 86.12217497, 106.18502202,  88.09810504,  79.45629964,\n",
       "        62.09818059,  62.09818059, 100.1758327 , 115.25863535,\n",
       "        79.45629964,  85.46548896,  86.12217497,  79.45629964,\n",
       "        80.30163708,  93.91864292, 100.1758327 , 100.1758327 ,\n",
       "        80.30163708,  69.89464854,  93.91864292,  93.91864292,\n",
       "        69.89464854, 115.25863535, 100.1758327 ,  88.09810504,\n",
       "        88.09810504, 109.13525581,  79.45629964,  79.45629964,\n",
       "        69.89464854, 115.25863535, 109.13525581, 107.46216739,\n",
       "        79.45629964, 100.1758327 ,  69.89464854,  80.30163708,\n",
       "        69.89464854,  62.09818059, 100.1758327 ,  88.09810504,\n",
       "        79.45629964,  80.30163708,  71.65983169,  79.45629964,\n",
       "        79.45629964, 100.1758327 , 109.13525581,  79.45629964,\n",
       "        93.91864292,  88.09810504,  92.37936474, 100.1758327 ,\n",
       "        80.30163708,  88.09810504,  79.45629964,  69.89464854,\n",
       "        71.65983169,  93.91864292, 100.1758327 , 100.1758327 ,\n",
       "        62.09818059,  69.89464854, 122.94091308, 101.33878785,\n",
       "       100.1758327 , 115.25863535, 100.1758327 ,  88.09810504,\n",
       "       109.13525581,  80.30163708, 109.13525581,  86.12217497,\n",
       "       109.13525581,  80.30163708, 115.25863535,  79.45629964,\n",
       "        86.12217497, 109.13525581, 107.46216739, 100.1758327 ,\n",
       "        80.30163708, 100.1758327 , 100.1758327 , 101.33878785,\n",
       "        93.91864292, 109.13525581,  93.91864292, 100.1758327 ,\n",
       "       100.1758327 ,  79.45629964, 109.13525581, 115.25863535,\n",
       "       106.18502202,  79.45629964, 115.25863535,  69.89464854,\n",
       "       100.1758327 , 115.25863535, 107.7243002 ,  79.45629964,\n",
       "       109.13525581,  79.45629964,  79.45629964,  88.09810504,\n",
       "        69.89464854,  79.45629964, 115.25863535,  79.45629964,\n",
       "       100.1758327 , 100.1758327 ,  93.91864292,  79.45629964,\n",
       "        86.12217497, 100.1758327 ,  86.12217497,  86.12217497,\n",
       "        69.89464854, 100.1758327 ,  93.91864292,  92.37936474,\n",
       "       100.1758327 ,  69.89464854, 100.1758327 ,  93.91864292,\n",
       "        86.12217497,  92.37936474, 115.25863535,  93.91864292,\n",
       "        93.91864292, 115.25863535,  86.12217497, 109.13525581,\n",
       "        69.89464854,  71.65983169,  93.91864292,  79.45629964,\n",
       "       115.25863535,  62.09818059,  79.45629964, 107.7243002 ,\n",
       "       107.7243002 ,  79.45629964, 100.1758327 ,  69.89464854,\n",
       "        88.09810504,  80.30163708,  93.91864292, 109.13525581,\n",
       "       109.13525581, 115.25863535, 100.1758327 ,  69.89464854,\n",
       "        93.91864292,  93.91864292, 100.1758327 , 107.7243002 ,\n",
       "       101.33878785,  88.09810504,  79.45629964,  88.09810504,\n",
       "       115.25863535,  80.30163708, 100.1758327 , 109.13525581,\n",
       "        79.45629964, 115.25863535,  69.89464854,  93.91864292,\n",
       "       115.25863535, 109.13525581, 100.1758327 , 115.25863535,\n",
       "        69.89464854,  93.91864292,  62.09818059,  71.65983169,\n",
       "       100.1758327 ,  88.09810504,  69.89464854, 109.13525581,\n",
       "        69.89464854,  88.09810504, 115.25863535,  71.65983169,\n",
       "        88.09810504, 115.25863535, 109.13525581,  79.45629964,\n",
       "        69.89464854,  92.37936474, 101.33878785,  88.09810504,\n",
       "        80.30163708, 101.33878785,  79.45629964,  93.91864292,\n",
       "        69.89464854, 100.1758327 ,  93.91864292, 107.46216739,\n",
       "        92.37936474,  69.89464854, 107.46216739,  80.30163708,\n",
       "        79.45629964, 100.1758327 ,  88.09810504,  86.12217497,\n",
       "       100.1758327 ,  71.65983169, 115.25863535, 115.25863535,\n",
       "       101.33878785,  69.89464854, 100.1758327 ,  80.30163708,\n",
       "       107.46216739,  92.37936474,  71.65983169,  69.89464854,\n",
       "        83.70030582, 100.1758327 ,  88.09810504,  69.89464854,\n",
       "        93.91864292,  80.30163708,  71.65983169,  69.89464854,\n",
       "       107.46216739,  62.09818059, 106.18502202, 109.13525581,\n",
       "       107.7243002 , 107.46216739,  62.09818059,  93.91864292,\n",
       "        69.89464854,  88.09810504, 109.13525581, 109.13525581,\n",
       "        69.89464854, 109.13525581,  69.89464854, 115.25863535,\n",
       "        69.89464854, 115.25863535,  79.45629964,  88.09810504,\n",
       "       100.1758327 , 107.7243002 ,  93.91864292,  71.65983169,\n",
       "       100.1758327 , 115.25863535,  80.30163708,  88.09810504,\n",
       "        62.09818059, 100.1758327 , 115.25863535,  69.89464854,\n",
       "       109.13525581, 109.13525581,  93.91864292, 115.25863535,\n",
       "        69.89464854,  86.12217497, 100.1758327 , 109.13525581,\n",
       "        69.89464854,  79.45629964,  88.09810504,  88.09810504,\n",
       "        79.45629964,  88.09810504, 100.1758327 , 113.98148997,\n",
       "        62.09818059,  93.91864292,  79.45629964,  69.89464854,\n",
       "        79.45629964,  71.65983169,  80.30163708, 109.13525581,\n",
       "       101.33878785,  71.65983169,  69.89464854, 115.25863535,\n",
       "       115.25863535,  69.89464854, 109.13525581,  93.91864292,\n",
       "       101.33878785,  69.89464854, 107.46216739, 100.1758327 ,\n",
       "        79.45629964,  93.91864292, 109.13525581, 101.33878785,\n",
       "        79.45629964, 100.1758327 ,  93.91864292, 100.1758327 ,\n",
       "        79.45629964,  88.09810504, 100.1758327 , 109.13525581,\n",
       "       115.25863535, 107.46216739,  88.09810504,  88.09810504,\n",
       "        71.65983169, 100.1758327 , 109.13525581, 115.25863535,\n",
       "       100.1758327 , 115.25863535,  69.89464854, 100.1758327 ,\n",
       "        80.30163708,  99.92783224, 107.46216739,  79.45629964,\n",
       "        79.45629964,  62.09818059, 107.46216739,  88.09810504,\n",
       "       100.1758327 ,  69.89464854, 100.1758327 ,  62.09818059,\n",
       "        88.09810504, 100.1758327 , 115.25863535,  88.09810504,\n",
       "        93.91864292, 109.13525581,  79.45629964, 109.13525581,\n",
       "       109.13525581, 109.13525581, 100.1758327 , 100.1758327 ,\n",
       "        85.46548896,  88.09810504,  80.30163708,  92.37936474,\n",
       "       115.25863535, 100.1758327 ,  79.45629964, 100.1758327 ,\n",
       "       100.1758327 ,  93.91864292, 109.13525581,  88.09810504,\n",
       "        93.91864292,  93.91864292,  79.45629964, 115.25863535,\n",
       "       115.25863535, 101.33878785,  88.09810504, 109.13525581,\n",
       "        88.09810504, 115.25863535, 107.46216739, 109.13525581,\n",
       "        71.65983169, 109.13525581,  79.45629964,  88.09810504,\n",
       "        88.09810504,  69.89464854, 109.13525581,  88.09810504,\n",
       "        93.91864292,  69.89464854, 109.13525581,  88.09810504,\n",
       "        79.45629964,  69.89464854, 115.25863535, 115.25863535,\n",
       "       115.25863535])"
      ]
     },
     "execution_count": 12,
     "metadata": {},
     "output_type": "execute_result"
    }
   ],
   "source": [
    "lm.predict(X_test)"
   ]
  },
  {
   "cell_type": "markdown",
   "id": "7dbdc98f",
   "metadata": {},
   "source": [
    "Da für eine Regression eher der Mean Squared Error benutzt wird, wollen wir diesen nun ausrechnen."
   ]
  },
  {
   "cell_type": "code",
   "execution_count": 13,
   "id": "0be13420",
   "metadata": {},
   "outputs": [],
   "source": [
    "from sklearn.metrics import mean_squared_error\n",
    "mse = mean_squared_error(lm.predict(X_test),y_test)"
   ]
  },
  {
   "cell_type": "code",
   "execution_count": 14,
   "id": "17561273",
   "metadata": {},
   "outputs": [
    {
     "data": {
      "text/plain": [
       "11.864870196196952"
      ]
     },
     "execution_count": 14,
     "metadata": {},
     "output_type": "execute_result"
    }
   ],
   "source": [
    "mse"
   ]
  }
 ],
 "metadata": {
  "kernelspec": {
   "display_name": "Python 3",
   "language": "python",
   "name": "python3"
  },
  "language_info": {
   "codemirror_mode": {
    "name": "ipython",
    "version": 3
   },
   "file_extension": ".py",
   "mimetype": "text/x-python",
   "name": "python",
   "nbconvert_exporter": "python",
   "pygments_lexer": "ipython3",
   "version": "3.8.8"
  }
 },
 "nbformat": 4,
 "nbformat_minor": 5
}
