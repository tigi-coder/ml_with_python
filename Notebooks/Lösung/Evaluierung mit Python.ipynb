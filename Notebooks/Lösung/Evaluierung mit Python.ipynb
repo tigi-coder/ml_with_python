{
 "cells": [
  {
   "cell_type": "code",
   "execution_count": null,
   "id": "88c294b5",
   "metadata": {},
   "outputs": [],
   "source": [
    "import pandas as pd\n",
    "import missingno as msno\n",
    "from sklearn.linear_model import LogisticRegression"
   ]
  },
  {
   "cell_type": "code",
   "execution_count": null,
   "id": "0a42daed",
   "metadata": {},
   "outputs": [],
   "source": [
    "churn_dataset = pd.read_csv(\"../Datasets/telecom_churn.csv\", sep=\",\")"
   ]
  },
  {
   "cell_type": "code",
   "execution_count": null,
   "id": "7c1df4b1",
   "metadata": {},
   "outputs": [],
   "source": [
    "churn_dataset"
   ]
  },
  {
   "cell_type": "markdown",
   "id": "52b1ec16",
   "metadata": {},
   "source": [
    "Trainieren Sie ein Modell mit der Spalte \"Churn\" als Label und evaluieren Sie das Ergebnis anhand der Confusion-Matrix(F1-Score, Precision,Recall)."
   ]
  },
  {
   "cell_type": "code",
   "execution_count": null,
   "id": "119551c3",
   "metadata": {},
   "outputs": [],
   "source": [
    "### Features und Label extrahieren\n",
    "X = pd.get_dummies(churn_dataset.iloc[:,:-1])\n",
    "y = churn_dataset.iloc[:,-1]"
   ]
  },
  {
   "cell_type": "code",
   "execution_count": null,
   "id": "65088fad",
   "metadata": {},
   "outputs": [],
   "source": [
    "### Train-/Test-Split\n",
    "from sklearn.model_selection import train_test_split\n",
    "\n",
    "X_train, X_test, y_train, y_test = train_test_split(X,y,test_size=0.2)"
   ]
  },
  {
   "cell_type": "code",
   "execution_count": null,
   "id": "b4ecbbc5",
   "metadata": {},
   "outputs": [],
   "source": [
    "### Classifier laden\n",
    "clf = LogisticRegression()"
   ]
  },
  {
   "cell_type": "code",
   "execution_count": null,
   "id": "484f030a",
   "metadata": {},
   "outputs": [],
   "source": [
    "### Parameter-Grid festlegen\n",
    "params = {\n",
    "    \"C\" : [0.1,1,10,100]\n",
    "}"
   ]
  },
  {
   "cell_type": "code",
   "execution_count": null,
   "id": "b4119e21",
   "metadata": {},
   "outputs": [],
   "source": [
    "### Grid-Search\n",
    "from sklearn.model_selection import GridSearchCV\n",
    "\n",
    "search = GridSearchCV(clf,params,cv=5)\n",
    "search.fit(X_train,y_train)"
   ]
  },
  {
   "cell_type": "code",
   "execution_count": null,
   "id": "85d19cfa",
   "metadata": {},
   "outputs": [],
   "source": [
    "### Accuracy\n",
    "search.score(X_test,y_test)"
   ]
  },
  {
   "cell_type": "code",
   "execution_count": null,
   "id": "d78cd420",
   "metadata": {},
   "outputs": [],
   "source": [
    "### Confusion Matrix\n",
    "from sklearn.metrics import plot_confusion_matrix\n",
    "plot_confusion_matrix(search.best_estimator_, X_test, y_test,labels=[True,False])"
   ]
  },
  {
   "cell_type": "code",
   "execution_count": null,
   "id": "07dbed15",
   "metadata": {},
   "outputs": [],
   "source": [
    "### F1-Score, Precision, Recall\n",
    "from sklearn.metrics import f1_score,recall_score,precision_score \n",
    "f1_score(y_test, search.predict(X_test),average=\"binary\", pos_label=True)"
   ]
  },
  {
   "cell_type": "code",
   "execution_count": null,
   "id": "ccdf21c8",
   "metadata": {},
   "outputs": [],
   "source": [
    "### Precision\n",
    "precision_score(y_test, search.predict(X_test),average=\"binary\", pos_label=True)"
   ]
  },
  {
   "cell_type": "code",
   "execution_count": null,
   "id": "06315d5c",
   "metadata": {},
   "outputs": [],
   "source": [
    "### Recall\n",
    "recall_score(y_test, search.predict(X_test),average=\"binary\", pos_label=True)"
   ]
  }
 ],
 "metadata": {
  "kernelspec": {
   "display_name": "Python 3",
   "language": "python",
   "name": "python3"
  },
  "language_info": {
   "codemirror_mode": {
    "name": "ipython",
    "version": 3
   },
   "file_extension": ".py",
   "mimetype": "text/x-python",
   "name": "python",
   "nbconvert_exporter": "python",
   "pygments_lexer": "ipython3",
   "version": "3.8.8"
  }
 },
 "nbformat": 4,
 "nbformat_minor": 5
}
